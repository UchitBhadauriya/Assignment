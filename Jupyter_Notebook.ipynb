{
 "cells": [
  {
   "cell_type": "markdown",
   "metadata": {},
   "source": [
    "<center>\n",
    "    <img src=\"https://cf-courses-data.s3.us.cloud-object-storage.appdomain.cloud/IBMDeveloperSkillsNetwork-DS0105EN-SkillsNetwork/labs/Module2/images/SN_web_lightmode.png\" width=\"300\" alt=\"cognitiveclass.ai logo\"  />\n",
    "</center>\n"
   ]
  },
  {
   "cell_type": "markdown",
   "metadata": {},
   "source": [
    "#### Add your code below following the instructions given in the course\n"
   ]
  },
  {
   "cell_type": "markdown",
   "metadata": {},
   "source": [
    "# My Jupyter Notebook"
   ]
  },
  {
   "cell_type": "markdown",
   "metadata": {
    "tags": []
   },
   "source": [
    "**UCHIT**\n",
    "\n",
    "STUDENT"
   ]
  },
  {
   "cell_type": "markdown",
   "metadata": {},
   "source": [
    "*I am interested in data science because nowadays data is a raw material for any business or company.*"
   ]
  },
  {
   "cell_type": "markdown",
   "metadata": {},
   "source": [
    "### Print Hello"
   ]
  },
  {
   "cell_type": "code",
   "execution_count": 4,
   "metadata": {},
   "outputs": [
    {
     "name": "stdout",
     "output_type": "stream",
     "text": [
      "Hello\n"
     ]
    }
   ],
   "source": [
    "print(\"Hello\")"
   ]
  },
  {
   "cell_type": "markdown",
   "metadata": {},
   "source": [
    "***\n",
    "Programming Languages:\n",
    "* Python\n",
    "* C\n",
    "* C++\n",
    "\n",
    "Numbering:\n",
    "1. John\n",
    "4. Mira\n",
    "6. Ram\n",
    "\n",
    "|Name|Age|Gender|\n",
    "|---|---|---|\n",
    "|John|24|M|\n",
    "|Warner|32|M|\n",
    "\n",
    "[Song](https://www.youtube.com/watch?v=VYfYzw2ygE8 \"Sad Song\")\n",
    "\n",
    "<img src=\"pexels-subin-cherian-9796059.jpg\" style=\"width= 280px;height=140px\" title = \"Cute Child\">\n",
    "\n",
    "> Hello\n",
    ">\n",
    "> Everyone\n",
    "\n",
    "`Python\n",
    "print(\"Hello\")`\n",
    "\n",
    "```Python\n",
    "print(\"Hello\")```\n",
    "\n",
    "Python is object oriented programming language. ~~Remove this part as it is a draft~~\n"
   ]
  },
  {
   "cell_type": "code",
   "execution_count": null,
   "metadata": {},
   "outputs": [],
   "source": []
  }
 ],
 "metadata": {
  "kernelspec": {
   "display_name": "Python",
   "language": "python",
   "name": "conda-env-python-py"
  },
  "language_info": {
   "codemirror_mode": {
    "name": "ipython",
    "version": 3
   },
   "file_extension": ".py",
   "mimetype": "text/x-python",
   "name": "python",
   "nbconvert_exporter": "python",
   "pygments_lexer": "ipython3",
   "version": "3.7.12"
  }
 },
 "nbformat": 4,
 "nbformat_minor": 4
}
